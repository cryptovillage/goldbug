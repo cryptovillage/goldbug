{
 "cells": [
  {
   "cell_type": "markdown",
   "id": "2b4d015f-dfea-4731-8621-7c7eef8c8ffa",
   "metadata": {},
   "source": [
    "# Chess Walkthrough\n",
    "\n",
    "This is the walkthrough for the Chess puzzle for CPV Goldbug."
   ]
  },
  {
   "cell_type": "markdown",
   "id": "11a45fcd-10d6-4b4e-ae3d-bf64c3355776",
   "metadata": {},
   "source": [
    "## Initial Start\n",
    "\n",
    "When you load up the web page, you are started with this off looking page:\n",
    "\n",
    "![](./walkthrough/01_initial.png)\n",
    "\n",
    "There should be a simple chess board on the left you can interact with and perform normal chess actions. For every white chess piece the player moves, the computer will move a black chess piece. "
   ]
  },
  {
   "cell_type": "markdown",
   "id": "58497cb5-01ac-43e9-b48d-68accfb54853",
   "metadata": {},
   "source": [
    "## Interacting With Board\n",
    "\n",
    "When interacting with the board, the player will notice that the computer always starts with the same set of moves with the knight. \n",
    "\n",
    "![](./walkthrough/02_step1.png)\n",
    "\n",
    "![](./walkthrough/03_step2.png)\n",
    "\n",
    "When the initial moves are done with the knight, it will make the following path:\n",
    "\n",
    "![](./walkthrough/04_final_path.png)\n",
    "\n",
    "Then once this is done pathing, the bot will begin playing against the player as normal with all the other pieces. All the places this knight was in was `b8, c6, e5, g6, h4, f5, h6, g4, f6, h5, f4, e6, g5`.\n"
   ]
  },
  {
   "cell_type": "markdown",
   "id": "4bfdeeca-c540-4115-a1d7-7fc6e5de2649",
   "metadata": {},
   "source": [
    "## Looking at The Clues\n",
    "\n",
    "If we take a look at the series of places the Knight had gone. We see it makes up the previously seen path. This can be broken up into two categories of strings: letters and numbers.\n",
    "\n",
    "Letters: `bceghfhgfhfeg`\n",
    "\n",
    "Numbers: `8656456465465`\n",
    "\n",
    "\n",
    "Additionally, if we look at the other image, we see that the path for it on the website is:\n",
    "\n",
    "```\n",
    "/static/libs/chessboard/img/FHXJQVZTFIUSUVXRLHOSQQVITCOQTHLDNEUAUOJZVHDEOSOQYLZJHELEDJIEPZAP.jpg\n",
    "```\n",
    "\n",
    "Then this gives us the string `FHXJQVZTFIUSUVXRLHOSQQVITCOQTHLDNEUAUOJZVHDEOSOQYLZJHELEDJIEPZAP`. \n",
    "\n",
    "Which when this strange string is applied to the chess board would make a matrix of letters like this:\n",
    "\n",
    "```\n",
    "F|H|X|J|Q|V|Z|T\n",
    "_+_+_+_+_+_+_+_\n",
    "F|I|U|S|U|V|X|R\n",
    "_+_+_+_+_+_+_+_\n",
    "L|H|O|S|Q|Q|V|I\n",
    "_+_+_+_+_+_+_+_\n",
    "T|C|O|Q|T|H|L|D\n",
    "_+_+_+_+_+_+_+_\n",
    "N|E|U|A|U|O|J|Z\n",
    "_+_+_+_+_+_+_+_\n",
    "V|H|D|E|O|S|O|Q\n",
    "_+_+_+_+_+_+_+_\n",
    "Y|L|Z|J|H|E|L|E\n",
    "_+_+_+_+_+_+_+_\n",
    "D|J|I|E|P|Z|A|P\n",
    "_+_+_+_+_+_+_+_\n",
    "```\n",
    "\n",
    "Then when applied using the pathing we have discovered we decode the message:\n",
    "\n",
    "```\n",
    "HOTVZHIJQDOQL\n",
    "```\n",
    "\n",
    "What we now have is `HOTVZHIJQDOQL` and `bceghfhgfhfeg`. We can run this through a Vigenère cipher between these two and get the output `GMPPSCBDLWJMF` as seen below:"
   ]
  },
  {
   "cell_type": "code",
   "execution_count": 5,
   "id": "2332c059-ab80-411b-8983-cb292be6d718",
   "metadata": {},
   "outputs": [
    {
     "name": "stdout",
     "output_type": "stream",
     "text": [
      "Decrypted Text: GMPPSCBDLWJMF\n"
     ]
    }
   ],
   "source": [
    "### Vigenère Cipher\n",
    "\n",
    "def vigenere_decrypt(ciphertext, key):\n",
    "    def char_to_num(char):\n",
    "        \"\"\"Convert a character to its corresponding number (A=0, B=1, ..., Z=25).\"\"\"\n",
    "        return ord(char.upper()) - ord('A')\n",
    "\n",
    "    def num_to_char(num):\n",
    "        \"\"\"Convert a number to its corresponding character (0=A, 1=B, ..., 25=Z).\"\"\"\n",
    "        return chr(num + ord('A'))\n",
    "\n",
    "    result = []\n",
    "    key_indices = [char_to_num(char) for char in key]\n",
    "    key_len = len(key_indices)\n",
    "\n",
    "    for i, char in enumerate(ciphertext):\n",
    "        if char.isalpha():\n",
    "            text_index = char_to_num(char)\n",
    "            key_index = key_indices[i % key_len]\n",
    "            new_index = (text_index - key_index + 26) % 26\n",
    "            new_char = num_to_char(new_index)\n",
    "            result.append(new_char.upper() if char.isupper() else new_char.lower())\n",
    "        else:\n",
    "            result.append(char)\n",
    "\n",
    "    return ''.join(result)\n",
    "\n",
    "text = \"HOTVZHIJQDOQL\"\n",
    "key = \"bceghfhgfhfeg\"\n",
    "\n",
    "result = vigenere_decrypt(text, key)\n",
    "print(f\"Decrypted Text: {result}\")"
   ]
  },
  {
   "cell_type": "markdown",
   "id": "5d6bf36a-b4e4-4fee-b601-bd60e06f7763",
   "metadata": {},
   "source": [
    "Which can be easily decoded with a simple Rotational Cipher of -1:\n",
    "\n",
    "`GMPPSCBDLWJMF` --> `FLOORBACKVILE`"
   ]
  }
 ],
 "metadata": {
  "kernelspec": {
   "display_name": "Python 3 (ipykernel)",
   "language": "python",
   "name": "python3"
  },
  "language_info": {
   "codemirror_mode": {
    "name": "ipython",
    "version": 3
   },
   "file_extension": ".py",
   "mimetype": "text/x-python",
   "name": "python",
   "nbconvert_exporter": "python",
   "pygments_lexer": "ipython3",
   "version": "3.12.2"
  }
 },
 "nbformat": 4,
 "nbformat_minor": 5
}
